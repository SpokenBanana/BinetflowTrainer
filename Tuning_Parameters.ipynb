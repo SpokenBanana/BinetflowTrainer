{
 "cells": [
  {
   "cell_type": "code",
   "execution_count": null,
   "metadata": {
    "collapsed": true
   },
   "outputs": [],
   "source": [
    "from sklearn.model_selection import GridSearchCV\n",
    "from sklearn.ensemble import RandomForestClassifier\n",
    "from sklearn.tree import DecisionTreeClassifier\n",
    "from utils import get_saved_data, get_feature_labels, get_binetflow_files\n",
    "\n",
    "\n",
    "# For random forest\n",
    "def tune_random_forest():\n",
    "    tuned_parameters = [\n",
    "        {\n",
    "            'n_estimators': [12, 16, 20, 50],\n",
    "            'criterion': ['gini', 'entropy'],\n",
    "            'max_features': ['auto', 'sqrt', 'log2', None],\n",
    "            'max_depth': [5, None],\n",
    "            'n_jobs': [2]\n",
    "        }\n",
    "    ]\n",
    "\n",
    "    clf = GridSearchCV(RandomForestClassifier(), tuned_parameters)\n",
    "\n",
    "    binet_files = get_binetflow_files()\n",
    "    data = get_saved_data(0.15, binet_files[7])\n",
    "    feature, label = get_feature_labels(data)\n",
    "\n",
    "    clf.fit(feature, label)\n",
    "\n",
    "    print(clf.best_params_)\n",
    "\n",
    "\n",
    "# for decision trees\n",
    "def tune_decision_trees():\n",
    "    tuned_parameters = [\n",
    "        {\n",
    "            'criterion': ['gini', 'entropy'],\n",
    "            'splitter': ['best', 'random'],\n",
    "            'class_weight': ['balanced', None],\n",
    "\n",
    "        }\n",
    "    ]\n",
    "\n",
    "    clf = GridSearchCV(DecisionTreeClassifier(), tuned_parameters)\n",
    "\n",
    "    binet_files = get_binetflow_files()\n",
    "    data = get_saved_data(0.15, binet_files[7])\n",
    "    feature, label = get_feature_labels(data)\n",
    "\n",
    "    clf.fit(feature, label)\n",
    "\n",
    "    print(clf.best_params_)"
   ]
  }
 ],
 "metadata": {
  "kernelspec": {
   "display_name": "Python 3",
   "language": "python",
   "name": "python3"
  },
  "language_info": {
   "codemirror_mode": {
    "name": "ipython",
    "version": 3
   },
   "file_extension": ".py",
   "mimetype": "text/x-python",
   "name": "python",
   "nbconvert_exporter": "python",
   "pygments_lexer": "ipython3",
   "version": "3.5.2"
  }
 },
 "nbformat": 4,
 "nbformat_minor": 2
}
