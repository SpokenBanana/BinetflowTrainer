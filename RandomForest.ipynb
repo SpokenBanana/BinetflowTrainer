{
 "cells": [
  {
   "cell_type": "code",
   "execution_count": 1,
   "metadata": {
    "collapsed": true
   },
   "outputs": [],
   "source": [
    "%matplotlib inline"
   ]
  },
  {
   "cell_type": "code",
   "execution_count": 2,
   "metadata": {
    "collapsed": false
   },
   "outputs": [
    {
     "data": {
      "image/png": "[encoded data removed]",
      "text/plain": [
       "<matplotlib.figure.Figure at 0x7fb80a89f208>"
      ]
     },
     "metadata": {},
     "output_type": "display_data"
    },
    {
     "name": "stdout",
     "output_type": "stream",
     "text": [
      "Key\n",
      "1 background_flow_count\n",
      "3 avg_duration\n",
      "18 n_tcp\n",
      "16 n_dports<1024\n",
      "7 n_conn\n",
      "4 n_s_b_p_address\n",
      "6 n_sports>1024\n",
      "15 normal_flow_count\n",
      "17 n_d_b_p_address\n",
      "9 n_udp\n",
      "0 n_dports>1024\n",
      "2 n_s_a_p_address\n",
      "14 n_d_c_p_address\n",
      "12 n_d_a_p_address\n",
      "10 n_icmp\n",
      "13 n_s_c_p_address\n",
      "5 n_sports<1024\n",
      "11 n_d_na_p_address\n",
      "8 n_s_na_p_address\n"
     ]
    }
   ],
   "source": [
    "from utils import get_classifier, get_binetflow_files, get_saved_data, \\\n",
    "get_feature_labels, get_feature_order\n",
    "import numpy as np\n",
    "import matplotlib.pyplot as plt\n",
    "\n",
    "\n",
    "binet_files = get_binetflow_files()\n",
    "rf = get_classifier('rf')\n",
    "feature, label = get_feature_labels(get_saved_data(0.15, binet_files[-1]))\n",
    "\n",
    "rf.fit(feature, label)\n",
    "\n",
    "importances = rf.feature_importances_\n",
    "\n",
    "std = np.std([t.feature_importances_ for t in rf.estimators_],\n",
    "            axis=0)\n",
    "\n",
    "indices = np.argsort(importances)[::-1]\n",
    "\n",
    "plt.figure()\n",
    "plt.title(\"Feature importance\")\n",
    "plt.bar(range(feature.shape[1]), importances[indices],\n",
    "       color=\"r\", yerr=std[indices], align=\"center\")\n",
    "plt.xticks(range(feature.shape[1]), indices)\n",
    "plt.xlim([-1, feature.shape[1]])\n",
    "plt.show()\n",
    "\n",
    "orders = get_feature_order()\n",
    "print(\"Key\")\n",
    "for i in indices:\n",
    "    print(i, orders[i])\n"
   ]
  },
  {
   "cell_type": "code",
   "execution_count": null,
   "metadata": {
    "collapsed": true
   },
   "outputs": [],
   "source": []
  }
 ],
 "metadata": {
  "kernelspec": {
   "display_name": "Python 3",
   "language": "python",
   "name": "python3"
  },
  "language_info": {
   "codemirror_mode": {
    "name": "ipython",
    "version": 3
   },
   "file_extension": ".py",
   "mimetype": "text/x-python",
   "name": "python",
   "nbconvert_exporter": "python",
   "pygments_lexer": "ipython3",
   "version": "3.5.2"
  }
 },
 "nbformat": 4,
 "nbformat_minor": 2
}
