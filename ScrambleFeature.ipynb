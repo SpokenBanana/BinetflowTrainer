{
 "cells": [
  {
   "cell_type": "code",
   "execution_count": 1,
   "metadata": {
    "collapsed": true,
    "deletable": true,
    "editable": true
   },
   "outputs": [],
   "source": [
    "%matplotlib inline"
   ]
  },
  {
   "cell_type": "code",
   "execution_count": 4,
   "metadata": {
    "collapsed": false,
    "deletable": true,
    "editable": true,
    "scrolled": true
   },
   "outputs": [
    {
     "data": {
      "image/png": "[encoded data removed]",
      "text/plain": [
       "<matplotlib.figure.Figure at 0x7f54cc6cec18>"
      ]
     },
     "metadata": {},
     "output_type": "display_data"
    }
   ],
   "source": [
    "import matplotlib.pyplot as plt\n",
    "from utils import get_saved_data, get_binetflow_files, get_feature_labels\n",
    "from binet_keras import keras_train_and_test\n",
    "import random\n",
    "import numpy as np\n",
    "\n",
    "\n",
    "binet_files = get_binetflow_files()\n",
    "best = [8, 9, 12]\n",
    "summaries = []\n",
    "for i in best:\n",
    "    summaries += get_saved_data(0.15, binet_files[i])\n",
    "\n",
    "scores = []\n",
    "prec = []\n",
    "rec = []\n",
    "feature, label = get_feature_labels(summaries)\n",
    "# normal score\n",
    "acc, p, r = keras_train_and_test(feature, label)\n",
    "scores.append(acc)\n",
    "prec.append(p)\n",
    "rec.append(r)\n",
    "\n",
    "mstd = list(zip(np.mean(feature, axis=0), np.std(feature, axis=0)))\n",
    "\n",
    "# blur the data a bit, make it stronger each iteration\n",
    "for i in range(1, 11):\n",
    "    indices = [random.randrange(len(feature)) for _ in range(int(len(feature) * ((i*10)/100)))]\n",
    "    feats = feature[:]\n",
    "    for index in indices: \n",
    "        feats[index]  = [feats[index][i] + np.random.normal(mstd[i][0], mstd[i][1]) for i in range(len(feats[index]))]\n",
    "    acc, p, r = keras_train_and_test(feats, label)\n",
    "    scores.append(acc)\n",
    "    prec.append(p)\n",
    "    rec.append(r)\n",
    "\n",
    "plt.figure()\n",
    "plt.plot(scores, \"lightblue\", lw=2, label=\"accuracy\")\n",
    "plt.plot(prec, color=\"red\", lw=2, label=\"precision\")\n",
    "plt.plot(rec, color=\"green\", lw=2, label=\"recall\")\n",
    "plt.xlabel(\"Scramble intensity\")\n",
    "plt.ylabel(\"Score\")\n",
    "plt.xticks(range(0, 11))\n",
    "plt.legend(loc=\"best\")\n",
    "plt.show()"
   ]
  },
  {
   "cell_type": "code",
   "execution_count": 7,
   "metadata": {
    "collapsed": false,
    "deletable": true,
    "editable": true
   },
   "outputs": [
    {
     "name": "stdout",
     "output_type": "stream",
     "text": [
      "Accuracy scores:  0.99, 0.96, 0.90, 0.89, 0.85, 0.85, 0.85, 0.85, 0.85, 0.85, 0.85\n",
      "precision scores: 0.99, 0.90, 0.80, 0.66, 0.00, 0.00, 0.00, 0.00, 0.00, 0.00, 0.00\n",
      "recall scores:    0.95, 0.78, 0.35, 0.27, 0.00, 0.00, 0.00, 0.00, 0.00, 0.00, 0.00\n"
     ]
    }
   ],
   "source": [
    "print(\"Accuracy scores: \", \", \".join('{0:.2f}'.format(s) for s in scores))\n",
    "print(\"precision scores:\", \", \".join('{0:.2f}'.format(s) for s in prec))\n",
    "print(\"recall scores:   \", \", \".join('{0:.2f}'.format(s) for s in rec))"
   ]
  },
  {
   "cell_type": "code",
   "execution_count": null,
   "metadata": {
    "collapsed": true
   },
   "outputs": [],
   "source": []
  }
 ],
 "metadata": {
  "kernelspec": {
   "display_name": "Python 3",
   "language": "python",
   "name": "python3"
  },
  "language_info": {
   "codemirror_mode": {
    "name": "ipython",
    "version": 3
   },
   "file_extension": ".py",
   "mimetype": "text/x-python",
   "name": "python",
   "nbconvert_exporter": "python",
   "pygments_lexer": "ipython3",
   "version": "3.5.2"
  }
 },
 "nbformat": 4,
 "nbformat_minor": 2
}
