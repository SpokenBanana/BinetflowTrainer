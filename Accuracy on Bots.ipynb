{
 "cells": [
  {
   "cell_type": "code",
   "execution_count": 26,
   "metadata": {
    "collapsed": true
   },
   "outputs": [],
   "source": [
    "from main import train_and_test_with, train_with_tensorflow, Summarizer\n",
    "from utils import *\n",
    "\n",
    "binet_files = get_binetflow_files()\n",
    "\n",
    "def run_analysis_on_bot(bot, ml, interval):\n",
    "    \"\"\" Check how well we can detect bots \"\"\"\n",
    "    bot_files = get_files_with_bot(bot)\n",
    "    all_summaries = []\n",
    "\n",
    "    # Gather all files that has this bot into one single array\n",
    "    for index in bot_files:\n",
    "        bot_file = binet_files[index]\n",
    "        time = get_start_time_for(bot_file)\n",
    "        all_summaries += get_saved_data(interval, time, bot_file)\n",
    "    features, labels = get_feature_labels(all_summaries)\n",
    "    \n",
    "    if ml == 'tf':\n",
    "        results = {'accuracy': train_with_tensorflow(features, labels)}\n",
    "    else:\n",
    "        results = train_and_test_with(features, labels, ml)\n",
    "    \n",
    "    for key, value in results.items():\n",
    "        print(\"%s \\t\\t= %s\" % (key, value))"
   ]
  },
  {
   "cell_type": "markdown",
   "metadata": {},
   "source": [
    "# Detecting Bots\n",
    "\n",
    "Code below shows analysis on detecting various bots. Change the interval and machine learning algorithm to see how well each algorithm does. I left them on what I've found to be best algorithm for each but feel free to double check."
   ]
  },
  {
   "cell_type": "code",
   "execution_count": 12,
   "metadata": {
    "collapsed": false
   },
   "outputs": [
    {
     "name": "stdout",
     "output_type": "stream",
     "text": [
      "1 \t\t= 13164, 13181\n",
      "recall \t\t= 0.673090053865\n",
      "accuracy \t\t= 0.932340303216\n",
      "precision \t\t= 0.645565014917\n",
      "normal count \t\t= 245012\n",
      "training size \t\t= 135678\n",
      "0 \t\t= 122514, 122498\n",
      "f1 score \t\t= 0.659040261477\n",
      "attacks \t\t= 26345\n"
     ]
    }
   ],
   "source": [
    "run_analysis_on_bot('Neris', 'dt', 1)"
   ]
  },
  {
   "cell_type": "code",
   "execution_count": 14,
   "metadata": {
    "collapsed": false
   },
   "outputs": [
    {
     "name": "stdout",
     "output_type": "stream",
     "text": [
      "1 \t\t= 1158, 1145\n",
      "recall \t\t= 0.0768558951965\n",
      "accuracy \t\t= 0.898337249232\n",
      "precision \t\t= 0.564102564103\n",
      "normal count \t\t= 19829\n",
      "training size \t\t= 11066\n",
      "0 \t\t= 9908, 9921\n",
      "f1 score \t\t= 0.13528055342\n",
      "attacks \t\t= 2303\n"
     ]
    }
   ],
   "source": [
    "run_analysis_on_bot('Rbot', 'rf', 1)"
   ]
  },
  {
   "cell_type": "code",
   "execution_count": 16,
   "metadata": {
    "collapsed": false
   },
   "outputs": [
    {
     "name": "stdout",
     "output_type": "stream",
     "text": [
      "1 \t\t= 5087, 5046\n",
      "recall \t\t= 0.790923503765\n",
      "accuracy \t\t= 0.899885801294\n",
      "precision \t\t= 0.938837920489\n",
      "normal count \t\t= 16137\n",
      "training size \t\t= 13135\n",
      "0 \t\t= 8048, 8089\n",
      "f1 score \t\t= 0.85855652361\n",
      "attacks \t\t= 10133\n"
     ]
    }
   ],
   "source": [
    "run_analysis_on_bot('Virut', 'rf', 1)"
   ]
  },
  {
   "cell_type": "code",
   "execution_count": 19,
   "metadata": {
    "collapsed": false
   },
   "outputs": [
    {
     "name": "stdout",
     "output_type": "stream",
     "text": [
      "accuracy \t\t= 0.981437\n"
     ]
    }
   ],
   "source": [
    "run_analysis_on_bot('Menti', 'tf', 1)"
   ]
  },
  {
   "cell_type": "code",
   "execution_count": 4,
   "metadata": {
    "collapsed": false
   },
   "outputs": [
    {
     "name": "stdout",
     "output_type": "stream",
     "text": [
      "accuracy \t\t= 0.965017\n"
     ]
    }
   ],
   "source": [
    "run_analysis_on_bot('Sogou', 'tf', 1)"
   ]
  },
  {
   "cell_type": "code",
   "execution_count": 23,
   "metadata": {
    "collapsed": false
   },
   "outputs": [
    {
     "name": "stdout",
     "output_type": "stream",
     "text": [
      "1 \t\t= 4675, 4653\n",
      "recall \t\t= 0.838383838384\n",
      "accuracy \t\t= 0.895165612606\n",
      "precision \t\t= 0.945238672159\n",
      "normal count \t\t= 9329\n",
      "training size \t\t= 9328\n",
      "0 \t\t= 4653, 4676\n",
      "f1 score \t\t= 0.88861047836\n",
      "attacks \t\t= 9328\n"
     ]
    }
   ],
   "source": [
    "run_analysis_on_bot('Murlo', 'rf', 1)"
   ]
  },
  {
   "cell_type": "code",
   "execution_count": 25,
   "metadata": {
    "collapsed": false
   },
   "outputs": [
    {
     "name": "stdout",
     "output_type": "stream",
     "text": [
      "1 \t\t= 13465, 13653\n",
      "recall \t\t= 0.858199663078\n",
      "accuracy \t\t= 0.865772950959\n",
      "precision \t\t= 0.853013977868\n",
      "normal count \t\t= 31811\n",
      "training size \t\t= 29464\n",
      "0 \t\t= 15999, 15812\n",
      "f1 score \t\t= 0.855598963087\n",
      "attacks \t\t= 27118\n"
     ]
    }
   ],
   "source": [
    "run_analysis_on_bot('NSIS.ay', 'dt', 1)"
   ]
  },
  {
   "cell_type": "code",
   "execution_count": null,
   "metadata": {
    "collapsed": true
   },
   "outputs": [],
   "source": []
  }
 ],
 "metadata": {
  "kernelspec": {
   "display_name": "Python 3",
   "language": "python",
   "name": "python3"
  },
  "language_info": {
   "codemirror_mode": {
    "name": "ipython",
    "version": 3
   },
   "file_extension": ".py",
   "mimetype": "text/x-python",
   "name": "python",
   "nbconvert_exporter": "python",
   "pygments_lexer": "ipython3",
   "version": "3.5.2"
  }
 },
 "nbformat": 4,
 "nbformat_minor": 2
}
