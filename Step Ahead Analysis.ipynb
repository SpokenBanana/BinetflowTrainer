{
 "cells": [
  {
   "cell_type": "code",
   "execution_count": 2,
   "metadata": {
    "collapsed": false,
    "scrolled": true
   },
   "outputs": [
    {
     "name": "stdout",
     "output_type": "stream",
     "text": [
      "For dt\n",
      "On file capture20110810.binetflow\n",
      "accuracy \t\t= 0.7176064650867157\n",
      "\n",
      "On file capture20110811.binetflow\n",
      "accuracy \t\t= 0.7456063564743115\n",
      "\n",
      "On file capture20110812.binetflow\n",
      "accuracy \t\t= 0.9033139833320118\n",
      "\n",
      "On file capture20110815.binetflow\n",
      "accuracy \t\t= 0.9190590111642744\n",
      "\n",
      "On file capture20110815-2.binetflow\n",
      "accuracy \t\t= 0.6507230255839822\n",
      "\n",
      "On file capture20110816.binetflow\n",
      "accuracy \t\t= 0.8053074093536521\n",
      "\n",
      "On file capture20110816-2.binetflow\n",
      "accuracy \t\t= 0.9773828756058158\n",
      "\n",
      "On file capture20110816-3.binetflow\n",
      "accuracy \t\t= 0.9482193232425931\n",
      "\n",
      "On file capture20110817.binetflow\n",
      "accuracy \t\t= 0.9676243567753001\n",
      "\n",
      "On file capture20110818.binetflow\n",
      "accuracy \t\t= 0.9742329107925601\n",
      "\n",
      "On file capture20110818-2.binetflow\n",
      "accuracy \t\t= 0.9618406285072951\n",
      "\n",
      "On file capture20110819.binetflow\n",
      "accuracy \t\t= 0.8742883170120701\n",
      "\n",
      "On file capture20110815-3.binetflow\n",
      "accuracy \t\t= 0.2801045343469997\n",
      "\n"
     ]
    }
   ],
   "source": [
    "from utils import *\n",
    "from main import train_and_test_step, Summarizer\n",
    "\n",
    "binet_files = get_binetflow_files()\n",
    "\n",
    "mls = ['dt', 'rf']\n",
    "\n",
    "# change these to get the parameters you want to check.\n",
    "ml = mls[0]\n",
    "interval = 1\n",
    "step = 1\n",
    "\n",
    "print('For %s' %  ml)\n",
    "for binet in binet_files:\n",
    "    time = get_start_time_for(binet)\n",
    "    summary = get_saved_data(interval, time, binet)\n",
    "    features, labels = get_feature_labels(summary)\n",
    "    result = {'accuracy': train_and_test_step(features, labels, ml, step)}\n",
    "    \n",
    "    print(\"On file %s\" % binet)\n",
    "    for key, value in result.items():\n",
    "        print('%s \\t\\t= %s' % (key, value))\n",
    "    print('')\n"
   ]
  },
  {
   "cell_type": "markdown",
   "metadata": {},
   "source": [
    "# Testing the step ahead method\n",
    "\n",
    "Above you can change the parameters to see how different machine learing algorithms perform under this analysis. Careful, it does take a while to run.\n",
    "\n",
    "## Aproach\n",
    "\n",
    "It fits the data on each window and uses that to predict the next window that is 'step' ahead of it's current index. This is why it takes a while to run since it is fitting and predicting on each window, and there are many windows.\n",
    "\n",
    "```python\n",
    "# Code for the step ahead analysis\n",
    "def train_and_test_step(features, labels, classifier, step):\n",
    "    correct = 0\n",
    "    clf = get_classifier(classifier)\n",
    "\n",
    "    for i in range(len(features) - step):\n",
    "        clf.fit([features[i]], [labels[i]])\n",
    "        if labels[i+step] == clf.predict([features[i+step]]):\n",
    "            correct += 1\n",
    "\n",
    "    return correct / (len(features) - step)\n",
    "```"
   ]
  },
  {
   "cell_type": "code",
   "execution_count": null,
   "metadata": {
    "collapsed": true
   },
   "outputs": [],
   "source": []
  }
 ],
 "metadata": {
  "kernelspec": {
   "display_name": "Python 3",
   "language": "python",
   "name": "python3"
  },
  "language_info": {
   "codemirror_mode": {
    "name": "ipython",
    "version": 3
   },
   "file_extension": ".py",
   "mimetype": "text/x-python",
   "name": "python",
   "nbconvert_exporter": "python",
   "pygments_lexer": "ipython3",
   "version": "3.5.2"
  }
 },
 "nbformat": 4,
 "nbformat_minor": 2
}
