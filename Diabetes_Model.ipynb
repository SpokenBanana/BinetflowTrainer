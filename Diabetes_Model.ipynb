{
 "cells": [
  {
   "cell_type": "code",
   "execution_count": 1,
   "metadata": {
    "collapsed": false
   },
   "outputs": [
    {
     "name": "stderr",
     "output_type": "stream",
     "text": [
      "Using TensorFlow backend.\n"
     ]
    },
    {
     "name": "stdout",
     "output_type": "stream",
     "text": [
      "[0.12259915436652505, 0.94069170491239951, 0.94906070041708035, 0.99928598048332029]\n"
     ]
    },
    {
     "data": {
      "text/plain": [
       "0"
      ]
     },
     "execution_count": 1,
     "metadata": {},
     "output_type": "execute_result"
    }
   ],
   "source": [
    "import csv\n",
    "from keras.models import Sequential\n",
    "from keras.layers import Dense, Dropout\n",
    "from sklearn.model_selection import train_test_split\n",
    "import numpy as np\n",
    "\n",
    "\n",
    "def get_feature_labels(file_name):\n",
    "    with open(file_name, 'r+') as f:\n",
    "        reader = csv.reader(f)\n",
    "        next(reader, None)\n",
    "        features = []\n",
    "        labels = []\n",
    "        ignore = ['#N/A', 7, 9]\n",
    "        lengths = set()\n",
    "        for row in reader:\n",
    "            if row[-1] in ignore:\n",
    "                continue\n",
    "            str_features = row[1:-1]\n",
    "            l = row[-1]\n",
    "            feature_entry = []\n",
    "            for feat in str_features:\n",
    "                try:\n",
    "                    feature_entry.append(float(feat))\n",
    "                except:\n",
    "                    feature_entry.append(-1.0)\n",
    "            l = int(l)\n",
    "            lengths.add(len(feature_entry))\n",
    "            labels.append(l-1)\n",
    "            features.append(feature_entry)\n",
    "    return features, labels\n",
    "\n",
    "\n",
    "f, l = [], []\n",
    "\n",
    "for data in ['./Dataset_v3.csv']:\n",
    "    feat, lab = get_feature_labels(data)\n",
    "    f += feat\n",
    "    l += lab\n",
    "\n",
    "f = np.array(f)\n",
    "l = np.array(l)\n",
    "\n",
    "feat_train, feat_test, label_train, label_test = train_test_split(f, l,\n",
    "                                              test_size=0.5, random_state=42)\n",
    "model = Sequential()\n",
    "model.add(Dense(64, input_dim=9, init='uniform', activation='relu'))\n",
    "model.add(Dropout(0.5))\n",
    "model.add(Dense(64, activation='relu'))\n",
    "model.add(Dropout(0.5))\n",
    "model.add(Dense(1, activation='sigmoid'))\n",
    "model.compile(loss='binary_crossentropy', optimizer='rmsprop',\n",
    "                   metrics=['accuracy', 'precision', 'recall'])\n",
    "\n",
    "model.fit(feat_train, label_train, nb_epoch=10, batch_size=32, verbose=False)\n",
    "\n",
    "print(model.evaluate(feat_test, label_test, batch_size=32, verbose=False))\n",
    "\n",
    "# to supress common keras error\n",
    "import gc\n",
    "gc.collect()\n"
   ]
  },
  {
   "cell_type": "code",
   "execution_count": null,
   "metadata": {
    "collapsed": true
   },
   "outputs": [],
   "source": []
  }
 ],
 "metadata": {
  "kernelspec": {
   "display_name": "Python 3",
   "language": "python",
   "name": "python3"
  },
  "language_info": {
   "codemirror_mode": {
    "name": "ipython",
    "version": 3
   },
   "file_extension": ".py",
   "mimetype": "text/x-python",
   "name": "python",
   "nbconvert_exporter": "python",
   "pygments_lexer": "ipython3",
   "version": "3.5.2"
  }
 },
 "nbformat": 4,
 "nbformat_minor": 2
}
