{
 "cells": [
  {
   "cell_type": "code",
   "execution_count": 2,
   "metadata": {
    "collapsed": false
   },
   "outputs": [
    {
     "name": "stdout",
     "output_type": "stream",
     "text": [
      "[0.28756533760229547, 0.90411301413421741, 0.91547998063548508, 0.98288616619641844]\n"
     ]
    },
    {
     "data": {
      "text/plain": [
       "0"
      ]
     },
     "execution_count": 2,
     "metadata": {},
     "output_type": "execute_result"
    }
   ],
   "source": [
    "from twitter.detector import get_tf_model, get_feature_labels\n",
    "from keras.layers import Dense, Dropout\n",
    "from keras.models import Sequential\n",
    "from sklearn.model_selection import train_test_split\n",
    "import numpy as np\n",
    "\n",
    "xtrain, ytrain, xtest, ytest = (*get_feature_labels('twitter/training.csv'),\n",
    "                                *get_feature_labels('twitter/testing.csv'))\n",
    "\n",
    "model = get_tf_model()\n",
    "\n",
    "model.fit(xtrain, ytrain, nb_epoch=20, batch_size=16, verbose=False)\n",
    "\n",
    "print(model.evaluate(xtest, ytest, batch_size=32, verbose=False))\n",
    "\n",
    "import gc ; gc.collect()\n"
   ]
  }
 ],
 "metadata": {
  "kernelspec": {
   "display_name": "Python 3",
   "language": "python",
   "name": "python3"
  },
  "language_info": {
   "codemirror_mode": {
    "name": "ipython",
    "version": 3
   },
   "file_extension": ".py",
   "mimetype": "text/x-python",
   "name": "python",
   "nbconvert_exporter": "python",
   "pygments_lexer": "ipython3",
   "version": "3.5.2"
  }
 },
 "nbformat": 4,
 "nbformat_minor": 2
}
